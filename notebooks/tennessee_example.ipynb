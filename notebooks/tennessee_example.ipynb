{
 "cells": [
  {
   "cell_type": "markdown",
   "metadata": {},
   "source": [
    "# Tennessee Example\n",
    "\n",
    "This example is taken from [Wikipedia](https://en.wikipedia.org/wiki/Plurality_voting#Example)\n",
    "\n",
    "Consider voting for the capital of Tennessee, assuming everyone in the state lives in one of four major cities."
   ]
  },
  {
   "cell_type": "code",
   "execution_count": 1,
   "metadata": {},
   "outputs": [],
   "source": [
    "%load_ext autoreload\n",
    "%autoreload 2\n",
    "\n",
    "import numpy as np\n",
    "\n",
    "# Set up the votes as in the Wikipedia example.  Just assume 100 voters for simplicity.\n",
    "n_voters = 100\n",
    "choices = ['Memphis', 'Nashville','Chattanooga','Knoxville']\n",
    "fraction = [.42, .26, .15, .17]\n",
    "prefs = [[1, 2, 3, 4],\n",
    "         [4, 1, 2, 3],\n",
    "         [4, 3, 1, 2],\n",
    "         [4, 3, 2, 1]]\n",
    "votes = []\n",
    "for f, p in zip(fraction, prefs):\n",
    "    votes.extend(int(n_voters*f)*[p])\n",
    "    \n",
    "# Convert into a numpy array\n",
    "votes = np.array(votes)"
   ]
  },
  {
   "cell_type": "markdown",
   "metadata": {},
   "source": [
    "## Voting implementations\n",
    "\n",
    "### First-past-the-post (FPTP) Voting\n",
    "Simple plurality voting.  Plurality wins.  [Wikipedia](https://en.wikipedia.org/wiki/Plurality_voting)."
   ]
  },
  {
   "cell_type": "code",
   "execution_count": 2,
   "metadata": {},
   "outputs": [
    {
     "name": "stdout",
     "output_type": "stream",
     "text": [
      "FPTP: Winner Memphis\n"
     ]
    }
   ],
   "source": [
    "from faculty_hiring import election\n",
    "\n",
    "winner = election.choose_fptp(votes)\n",
    "\n",
    "print('FPTP: Winner {}'.format(choices[winner[0]]))"
   ]
  },
  {
   "cell_type": "markdown",
   "metadata": {},
   "source": [
    "## Instant-Runoff Voting (IRV)\n",
    "\n",
    "Remove candidate(s) with smallest number of 1st place votes and reassign their votes to the next ranked candidate until majority is reached.  [Wikipedia](https://en.wikipedia.org/wiki/Instant-runoff_voting)."
   ]
  },
  {
   "cell_type": "code",
   "execution_count": 3,
   "metadata": {},
   "outputs": [
    {
     "name": "stdout",
     "output_type": "stream",
     "text": [
      "IRV: Winner Knoxville\n"
     ]
    }
   ],
   "source": [
    "winner = election.choose_irv(votes)\n",
    "print('IRV: Winner {}'.format(choices[winner[0]]))"
   ]
  },
  {
   "cell_type": "markdown",
   "metadata": {},
   "source": [
    "## Condorcet Voting\n",
    "\n",
    "The basic premise is to pick the candidate who is preferred in a head-to-head match up.  Ideally, the winner would always be preferred to every other candidate in a head to head election, but if that's not the case, at least pick the person for whom that's most often correct.  [Wikipedia](https://en.wikipedia.org/wiki/Condorcet_method).\n",
    "\n",
    "Note: I'm not worrying about cycles or other strange situations with this method.  Maybe later?"
   ]
  },
  {
   "cell_type": "code",
   "execution_count": 4,
   "metadata": {},
   "outputs": [
    {
     "name": "stdout",
     "output_type": "stream",
     "text": [
      "Condorcet: Winner Nashville\n"
     ]
    }
   ],
   "source": [
    "winner = election.choose_condorcet(votes)\n",
    "print('Condorcet: Winner {}'.format(choices[winner[0]]))"
   ]
  },
  {
   "cell_type": "markdown",
   "metadata": {},
   "source": [
    "## Schulze Method of Voting\n",
    "\n",
    "This is a Condorcet method that deals with the issue of cycles by removing the weakest defeats until a clear winner is found.  At least, that's what Wikipedia says.  It's hard to see how that works based on the implementation.  [Wikipedia](https://en.wikipedia.org/wiki/Schulze_method].\n",
    "\n",
    "Since Schulze is a Condorcet method, should agree on the same winner as the Condorcet voting above."
   ]
  },
  {
   "cell_type": "code",
   "execution_count": 5,
   "metadata": {},
   "outputs": [
    {
     "name": "stdout",
     "output_type": "stream",
     "text": [
      "Schulze: Winner Nashville\n"
     ]
    }
   ],
   "source": [
    "winner = election.choose_schulze(votes)\n",
    "print('Schulze: Winner {}'.format(choices[winner[0]]))"
   ]
  },
  {
   "cell_type": "markdown",
   "metadata": {},
   "source": [
    "Since Schulze is pretty complex to implement, let's check it on one more [Wikipedia example](https://en.wikipedia.org/wiki/Schulze_method#Example)."
   ]
  },
  {
   "cell_type": "code",
   "execution_count": 6,
   "metadata": {},
   "outputs": [
    {
     "name": "stdout",
     "output_type": "stream",
     "text": [
      "Second Schulze Example: Winner E\n",
      "Ranking all the candidates: E>A>C>B>D\n"
     ]
    }
   ],
   "source": [
    "# Set up the votes as in the Wikipedia example.\n",
    "choices2 = ['A', 'B','C','D','E']\n",
    "votes2 = np.array(5*[[1,3,2,5,4]]+\n",
    "                  5*[[1,5,4,2,3]]+\n",
    "                  8*[[4,1,5,3,2]]+\n",
    "                  3*[[2,3,1,5,4]]+\n",
    "                  7*[[2,4,1,5,3]]+\n",
    "                  2*[[3,2,1,4,5]]+\n",
    "                  7*[[5,4,2,1,3]]+\n",
    "                  8*[[3,2,5,4,1]])\n",
    "winner = election.choose_schulze(votes2,5)\n",
    "print('Second Schulze Example: Winner {}'.format(choices2[winner[0]]))\n",
    "print('Ranking all the candidates: {}'.format('>'.join(choices2[i] for i in winner)))"
   ]
  },
  {
   "cell_type": "markdown",
   "metadata": {},
   "source": [
    "## Borda Count Voting\n",
    "\n",
    "This is a ranked voting approach based on points, so a form of positional voting.  [Wikipedia](https://en.wikipedia.org/wiki/Borda_count)."
   ]
  },
  {
   "cell_type": "code",
   "execution_count": 7,
   "metadata": {},
   "outputs": [
    {
     "name": "stdout",
     "output_type": "stream",
     "text": [
      "Borda: Winner Nashville\n"
     ]
    }
   ],
   "source": [
    "winner = election.choose_borda(votes)\n",
    "print('Borda: Winner {}'.format(choices[winner[0]]))"
   ]
  },
  {
   "cell_type": "markdown",
   "metadata": {},
   "source": [
    "## Score Voting\n",
    "\n",
    "This is a cardinal voting system, meaning that voters score candidates on some numerical scale.  Candidates are scored independently of one another (i.e. they can have the same score if desired) and the scores are not a ranking.  For example, on a 5 points scale, a voter could give one candidate 5 points and the other two candidates 0 points if that reflected the voters opinions. [Wikipedia](https://en.wikipedia.org/wiki/Score_voting).\n",
    "\n",
    "Note: for testing this code, we need to come up with a set of scores voters will assign to the options.  I'm using [these](https://en.wikipedia.org/wiki/Score_voting#Example)."
   ]
  },
  {
   "cell_type": "code",
   "execution_count": 8,
   "metadata": {},
   "outputs": [
    {
     "name": "stdout",
     "output_type": "stream",
     "text": [
      "Score Voting: Winner Nashville\n"
     ]
    }
   ],
   "source": [
    "ballots = [[10,  4,  2,  0],\n",
    "           [ 0, 10,  4,  2],\n",
    "           [ 0,  6, 10,  6],\n",
    "           [ 0,  5,  7, 10]]\n",
    "scores = []\n",
    "for f, p in zip(fraction, ballots):\n",
    "    scores.extend(int(n_voters*f)*[p])\n",
    "    \n",
    "# Convert into a numpy array\n",
    "scores = np.array(scores)\n",
    "\n",
    "winner = election.choose_score_voting(scores)\n",
    "print('Score Voting: Winner {}'.format(choices[winner[0]]))"
   ]
  },
  {
   "cell_type": "markdown",
   "metadata": {},
   "source": [
    "## Majority Judgment\n",
    "\n",
    "This is another cardinal voting system.  In this case, the winner is determined based on who has the highest median ranking.  In the likely case of ties, the tie is broken by removing voters whose score is equal to the common median and recalculating the median until only one candidate has the best median.  [Wikipedia](https://en.wikipedia.org/wiki/Majority_judgment)."
   ]
  },
  {
   "cell_type": "code",
   "execution_count": 9,
   "metadata": {},
   "outputs": [
    {
     "name": "stdout",
     "output_type": "stream",
     "text": [
      "Majority Judgment: Winner Nashville\n"
     ]
    }
   ],
   "source": [
    "ballots = [[4, 2, 1, 1],\n",
    "           [1, 4, 2, 2],\n",
    "           [1, 2, 4, 3],\n",
    "           [1, 2, 3, 4]]\n",
    "scores = []\n",
    "for f, p in zip(fraction, ballots):\n",
    "    scores.extend(int(n_voters*f)*[p])\n",
    "    \n",
    "# Convert into a numpy array\n",
    "scores = np.array(scores)\n",
    "\n",
    "winner = election.choose_majority_judgment(scores)\n",
    "print('Majority Judgment: Winner {}'.format(choices[winner[0]]))"
   ]
  },
  {
   "cell_type": "markdown",
   "metadata": {},
   "source": [
    "## STAR Voting\n",
    "\n",
    "This is a method of cardinal voting where after scoring all candidates, the top two in total score have an automatic run-off where the vote for each ballot is determined by which candidate had the higher score.  [Wikipedia](https://en.wikipedia.org/wiki/STAR_voting)."
   ]
  },
  {
   "cell_type": "code",
   "execution_count": 10,
   "metadata": {},
   "outputs": [
    {
     "name": "stdout",
     "output_type": "stream",
     "text": [
      "STAR: Winner Nashville\n"
     ]
    }
   ],
   "source": [
    "ballots = [[5, 2, 1, 0],\n",
    "           [0, 5, 2, 1],\n",
    "           [0, 3, 5, 3],\n",
    "           [0, 2, 4, 5]]\n",
    "scores = []\n",
    "for f, p in zip(fraction, ballots):\n",
    "    scores.extend(int(n_voters*f)*[p])\n",
    "    \n",
    "# Convert into a numpy array\n",
    "scores = np.array(scores)\n",
    "\n",
    "winner = election.choose_star(scores)\n",
    "print('STAR: Winner {}'.format(choices[winner[0]]))"
   ]
  },
  {
   "cell_type": "markdown",
   "metadata": {},
   "source": [
    "## STV Voting\n",
    "Single Transferrable Vote (STV) voting is really, really complicated, but the basic idea is the same as IRV except that you also move excess votes above the minimum neede for a candidate to win on to the latter choices on the ballots.  This form of voting really only makes sense for multi-seat elections.  Otherwise, it should just be IRV.  [Wikipedia](https://en.wikipedia.org/wiki/Single_transferable_vote).\n",
    "\n",
    "Start with a basic check to see that we get the same result as IRV on the Tennessee example."
   ]
  },
  {
   "cell_type": "code",
   "execution_count": 11,
   "metadata": {},
   "outputs": [
    {
     "name": "stdout",
     "output_type": "stream",
     "text": [
      "STV: Winner Knoxville\n"
     ]
    }
   ],
   "source": [
    "winner = election.choose_stv(votes)\n",
    "print('STV: Winner {}'.format(choices[winner[0]]))"
   ]
  },
  {
   "cell_type": "markdown",
   "metadata": {},
   "source": [
    "Now I need to try a [non-trival example](https://en.wikipedia.org/wiki/Single_transferable_vote#Example) to see that I get the right answer."
   ]
  },
  {
   "cell_type": "code",
   "execution_count": 12,
   "metadata": {},
   "outputs": [
    {
     "name": "stdout",
     "output_type": "stream",
     "text": [
      "The party menu is Chocolate, Oranges, Strawberries\n"
     ]
    }
   ],
   "source": [
    "foods = ['Oranges', 'Pears', 'Chocolate', 'Strawberries', 'Hamburgers']\n",
    "food_votes = np.array(4*[[1,0,0,0,0]]+\n",
    "                      2*[[2,1,0,0,0]]+\n",
    "                      8*[[0,0,1,2,0]]+\n",
    "                      4*[[0,0,1,0,2]]+\n",
    "                      [[0,0,0,1,0],[0,0,0,0,1]])\n",
    "food_winner = election.choose_stv(food_votes,3)\n",
    "print('The party menu is {}'.format(', '.join([foods[x] for x in food_winner])))"
   ]
  },
  {
   "cell_type": "markdown",
   "metadata": {},
   "source": [
    "# Validation\n",
    "Now let's do some simple validation just to look for sitations that will break the voting.  Let's start by breaking our algorithms down into basic categories."
   ]
  },
  {
   "cell_type": "code",
   "execution_count": 35,
   "metadata": {},
   "outputs": [],
   "source": [
    "single_winner_ordinal = [election.choose_fptp,\n",
    "                         election.choose_irv,\n",
    "                         election.choose_condorcet,\n",
    "                         election.choose_schulze,\n",
    "                         election.choose_borda]\n",
    "\n",
    "multi_winner_ordinal = [election.choose_fptp,\n",
    "                        election.choose_schulze,\n",
    "                        election.choose_borda,\n",
    "                        election.choose_stv]\n",
    "\n",
    "single_winner_cardinal = [election.choose_score_voting,\n",
    "                          election.choose_majority_judgment,\n",
    "                          election.choose_star]\n",
    "\n",
    "multi_winner_cardinal = [election.choose_score_voting]"
   ]
  },
  {
   "cell_type": "markdown",
   "metadata": {},
   "source": [
    "## One-Vote Test\n",
    "\n",
    "Make sure the voting algorithm doesn't break if there's just one vote cast."
   ]
  },
  {
   "cell_type": "code",
   "execution_count": 36,
   "metadata": {},
   "outputs": [
    {
     "name": "stdout",
     "output_type": "stream",
     "text": [
      "Single-Winner Ordinal Methods:\n",
      "choose_fptp -> Winners: A\n",
      "choose_irv -> Winners: A\n",
      "choose_condorcet -> Winners: A\n",
      "choose_schulze -> Winners: A\n",
      "choose_borda -> Winners: A\n",
      "\n",
      "Multi-Winner Ordinal Methods:\n",
      "choose_fptp -> Winners: C, B, A\n",
      "choose_schulze -> Winners: A, B, C\n",
      "choose_borda -> Winners: A, B, C\n",
      "choose_stv -> Winners: A, B, C\n",
      "\n",
      "Single-Winner Cardinal Methods:\n",
      "choose_score_voting -> Winners: A\n",
      "choose_majority_judgment -> Winners: A\n",
      "choose_star -> Winners: A\n",
      "\n",
      "Multi-Winner Cardinal Methods:\n",
      "choose_score_voting -> Winners: A, B, C\n"
     ]
    }
   ],
   "source": [
    "test_choices = ['A','B','C','D','E']\n",
    "\n",
    "test_votes = np.array([[1,2,3,4,5]])\n",
    "\n",
    "print('Single-Winner Ordinal Methods:')\n",
    "for method in single_winner_ordinal:\n",
    "    print('{} -> Winners: {}'.format(method.__name__,', '.join([test_choices[x] for x in method(test_votes)])))\n",
    "    \n",
    "print('\\nMulti-Winner Ordinal Methods:')\n",
    "for method in multi_winner_ordinal:\n",
    "    print('{} -> Winners: {}'.format(method.__name__,', '.join([test_choices[x] for x in method(test_votes,3)])))\n",
    "\n",
    "test_score = np.array([[10,8,6,4,2]])\n",
    "\n",
    "print('\\nSingle-Winner Cardinal Methods:')\n",
    "for method in single_winner_cardinal:\n",
    "    print('{} -> Winners: {}'.format(method.__name__,', '.join([test_choices[x] for x in method(test_score)])))\n",
    "    \n",
    "print('\\nMulti-Winner Cardinal Methods:')\n",
    "for method in multi_winner_cardinal:\n",
    "    print('{} -> Winners: {}'.format(method.__name__,', '.join([test_choices[x] for x in method(test_score,3)])))"
   ]
  },
  {
   "cell_type": "markdown",
   "metadata": {},
   "source": [
    "## Tie Test\n",
    "Let's try a case where A, B, and C are tied."
   ]
  },
  {
   "cell_type": "code",
   "execution_count": 45,
   "metadata": {},
   "outputs": [
    {
     "name": "stdout",
     "output_type": "stream",
     "text": [
      "Single-Winner Ordinal Methods:\n",
      "choose_fptp -> Winners: C, B, A\n",
      "choose_irv -> Winners: A, B, C\n",
      "choose_condorcet -> Winners: A, B, C\n",
      "choose_schulze -> Winners: C, B, A\n",
      "choose_borda -> Winners: C, B, A\n",
      "\n",
      "Multi-Winner Ordinal Methods:\n",
      "choose_fptp -> Winners: C, B, A\n",
      "choose_schulze -> Winners: C, B, A\n",
      "choose_borda -> Winners: C, B, A\n",
      "choose_stv -> Winners: A, B, C\n",
      "\n",
      "Single-Winner Cardinal Methods:\n",
      "choose_score_voting -> Winners: C, B, A\n",
      "choose_majority_judgment -> Winners: A, B, C\n",
      "choose_star -> Winners: A, B, C\n",
      "\n",
      "Multi-Winner Cardinal Methods:\n",
      "choose_score_voting -> Winners: C, B, A\n"
     ]
    }
   ],
   "source": [
    "test_choices = ['A','B','C','D','E']\n",
    "\n",
    "test_votes = np.array(30*[[1,2,3,4,5]]+\n",
    "                      30*[[3,1,2,4,5]]+\n",
    "                      30*[[2,3,1,4,5]])\n",
    "\n",
    "print('Single-Winner Ordinal Methods:')\n",
    "for method in single_winner_ordinal:\n",
    "    print('{} -> Winners: {}'.format(method.__name__,', '.join([test_choices[x] for x in method(test_votes)])))\n",
    "    \n",
    "print('\\nMulti-Winner Ordinal Methods:')\n",
    "for method in multi_winner_ordinal:\n",
    "    print('{} -> Winners: {}'.format(method.__name__,', '.join([test_choices[x] for x in method(test_votes,2)])))\n",
    "\n",
    "test_score = np.array(30*[[10,8,6,4,2]]+\n",
    "                      30*[[6,10,8,4,2]]+\n",
    "                      30*[[8,6,10,4,2]])\n",
    "\n",
    "print('\\nSingle-Winner Cardinal Methods:')\n",
    "for method in single_winner_cardinal:\n",
    "    print('{} -> Winners: {}'.format(method.__name__,', '.join([test_choices[x] for x in method(test_score)])))\n",
    "    \n",
    "print('\\nMulti-Winner Cardinal Methods:')\n",
    "for method in multi_winner_cardinal:\n",
    "    print('{} -> Winners: {}'.format(method.__name__,', '.join([test_choices[x] for x in method(test_score,2)])))"
   ]
  },
  {
   "cell_type": "markdown",
   "metadata": {},
   "source": [
    "## Random Voters Test\n",
    "Now let's make a bunch of randomly distributed votes that are, on average, a tie, and see whether the winners of the elections are uniform."
   ]
  },
  {
   "cell_type": "code",
   "execution_count": 75,
   "metadata": {},
   "outputs": [
    {
     "data": {
      "text/markdown": [
       "#### Single-Winner Voting Methods\n",
       "|Method|A|B|C|D|E|2-Way Tie|3-Way Tie|4-Way Tie|5-Way Tie|\n",
       "|---|---|---|---|---|---|---|---|---|---|\n",
       "|choose_fptp|17.4%|17.9%|17.7%|17.7%|17.5%|10.6%|1.1%|0.1%|0.0%|\n",
       "|choose_irv|17.4%|17.9%|17.7%|17.7%|17.5%|10.6%|1.1%|0.1%|0.0%|\n",
       "|choose_condorcet|15.0%|15.1%|15.1%|15.1%|14.7%|20.0%|4.3%|0.7%|0.0%|\n",
       "|choose_schulze|18.6%|18.7%|18.7%|18.6%|18.3%|6.7%|0.4%|0.0%|0.0%|\n",
       "|choose_borda|19.2%|19.3%|19.5%|19.3%|19.0%|3.5%|0.1%|0.0%|0.0%|\n",
       "#### Multi-Winner Voting Methods\n",
       "|Method|ABC|ABD|ABE|ACD|ACE|ADE|BCD|BCE|BDE|CDE|4-Way Tie|5-Way Tie|\n",
       "|---|---|---|---|---|---|---|---|---|---|---|---|---|\n",
       "|choose_fptp|8.6%|8.7%|8.5%|8.6%|8.7%|8.6%|8.6%|8.6%|8.5%|8.5%|13.1%|0.8%|\n",
       "|choose_schulze|8.8%|8.6%|8.7%|8.8%|8.9%|8.7%|8.9%|8.7%|8.7%|8.7%|11.6%|0.9%|\n",
       "|choose_borda|9.6%|9.4%|9.5%|9.6%|9.6%|9.5%|9.6%|9.4%|9.4%|9.4%|5.0%|0.1%|\n",
       "|choose_stv|9.9%|10.0%|9.9%|9.9%|9.8%|9.8%|10.0%|9.9%|9.8%|10.0%|0.2%|0.9%|\n"
      ],
      "text/plain": [
       "<IPython.core.display.Markdown object>"
      ]
     },
     "metadata": {},
     "output_type": "display_data"
    }
   ],
   "source": [
    "test_choices = ['A','B','C','D','E']\n",
    "vote_opts = np.array(range(1,len(test_choices)+1))\n",
    "\n",
    "# Counters for the results of different methods\n",
    "from collections import Counter\n",
    "counter_swo = []\n",
    "for i in range(len(single_winner_ordinal)):\n",
    "    counter_swo.append(Counter())\n",
    "\n",
    "counter_mwo = []\n",
    "for i in range(len(multi_winner_ordinal)):\n",
    "    counter_mwo.append(Counter())\n",
    "\n",
    "# Let's run some experiments\n",
    "n_trials = 100000\n",
    "n_votes = 100\n",
    "\n",
    "for i in range(n_trials):\n",
    "    \n",
    "    # Generate the votes\n",
    "    votes = np.empty((n_votes,len(test_choices)),dtype=int)\n",
    "    for j in range(n_votes):\n",
    "        votes[j,:]=np.random.permutation(vote_opts)\n",
    "    \n",
    "    # Now, do the voting\n",
    "    for method,counter in zip(single_winner_ordinal,counter_swo):\n",
    "        winners = method(votes)\n",
    "        if len(winners)==1:\n",
    "            counter[test_choices[winners[0]]]+=1\n",
    "        else:\n",
    "            counter['{}-Way Tie'.format(len(winners))]+=1\n",
    "\n",
    "    for method,counter in zip(multi_winner_ordinal,counter_mwo):\n",
    "        winners = method(votes,3)\n",
    "        if len(winners)==3:\n",
    "            counter[''.join(sorted([test_choices[x] for x in winners]))]+=1\n",
    "        else:\n",
    "            counter['{}-Way Tie'.format(len(winners))]+=1\n",
    "            \n",
    "# Let's make a table for the single-winner methods\n",
    "\n",
    "# First, we need the headers\n",
    "header_single = set()\n",
    "header_ties = set()\n",
    "for counter in counter_swo:\n",
    "    for k in counter.keys():\n",
    "        if '-Way Tie' in k:\n",
    "            header_ties.add(k)\n",
    "        else:\n",
    "            header_single.add(k)\n",
    "\n",
    "# Now turn the header sets into a header list\n",
    "header = sorted(header_single) + sorted(header_ties)\n",
    "\n",
    "# Then make the output\n",
    "output = '#### Single-Winner Voting Methods\\n'\n",
    "output += '|Method|'+'|'.join(header)+'|\\n'\n",
    "output += '|---|'+'|'.join(len(header)*['---'])+'|\\n'\n",
    "for method,counter in zip(single_winner_ordinal,counter_swo):\n",
    "    output += '|'+method.__name__+'|'+'|'.join(['{:.1f}%'.format(counter[x]*100/n_trials) for x in header])+'|\\n'\n",
    "\n",
    "# Do it again for the multi winners.  First, we need the headers\n",
    "header_single = set()\n",
    "header_ties = set()\n",
    "for counter in counter_mwo:\n",
    "    for k in counter.keys():\n",
    "        if '-Way Tie' in k:\n",
    "            header_ties.add(k)\n",
    "        else:\n",
    "            header_single.add(k)\n",
    "\n",
    "# Now turn the header sets into a header list\n",
    "header = sorted(header_single) + sorted(header_ties)\n",
    "\n",
    "# Then make the output\n",
    "output += '#### Multi-Winner Voting Methods\\n'\n",
    "output += '|Method|'+'|'.join(header)+'|\\n'\n",
    "output += '|---|'+'|'.join(len(header)*['---'])+'|\\n'\n",
    "for method,counter in zip(multi_winner_ordinal,counter_mwo):\n",
    "    output += '|'+method.__name__+'|'+'|'.join(['{:.1f}%'.format(counter[x]*100/n_trials) for x in header])+'|\\n'\n",
    "\n",
    "from IPython.display import display, Markdown\n",
    "\n",
    "display(Markdown(output))"
   ]
  },
  {
   "cell_type": "code",
   "execution_count": 78,
   "metadata": {},
   "outputs": [
    {
     "data": {
      "text/markdown": [
       "#### Single-Winner Voting Methods\n",
       "|Method|A|B|C|D|E|2-Way Tie|3-Way Tie|4-Way Tie|5-Way Tie|\n",
       "|---|---|---|---|---|---|---|---|---|---|\n",
       "|choose_score_voting|19.4%|19.9%|19.6%|19.7%|19.5%|1.9%|0.0%|0.0%|0.0%|\n",
       "|choose_majority_judgment|6.5%|6.5%|6.6%|6.5%|6.4%|29.7%|23.8%|10.1%|3.9%|\n",
       "|choose_star|18.7%|19.1%|18.8%|18.9%|18.6%|5.9%|0.0%|0.0%|0.0%|\n",
       "#### Multi-Winner Voting Methods\n",
       "|Method|ABC|ABD|ABE|ACD|ACE|ADE|BCD|BCE|BDE|CDE|4-Way Tie|5-Way Tie|\n",
       "|---|---|---|---|---|---|---|---|---|---|---|---|---|\n",
       "|choose_score_voting|9.7%|9.8%|9.9%|9.8%|9.6%|9.6%|9.7%|9.6%|9.7%|9.7%|2.8%|0.0%|\n"
      ],
      "text/plain": [
       "<IPython.core.display.Markdown object>"
      ]
     },
     "metadata": {},
     "output_type": "display_data"
    }
   ],
   "source": [
    "test_choices = ['A','B','C','D','E']\n",
    "\n",
    "# Counters for the results of different methods\n",
    "counter_swc = []\n",
    "for i in range(len(single_winner_cardinal)):\n",
    "    counter_swc.append(Counter())\n",
    "\n",
    "counter_mwc = []\n",
    "for i in range(len(multi_winner_cardinal)):\n",
    "    counter_mwc.append(Counter())\n",
    "\n",
    "# Let's run some experiments\n",
    "n_trials = 100000\n",
    "n_votes = 100\n",
    "\n",
    "for i in range(n_trials):\n",
    "    \n",
    "    # Generate the votes\n",
    "    votes = np.random.default_rng().integers(1,11,(n_votes,len(test_choices)))\n",
    "    \n",
    "    # Now, do the voting\n",
    "    for method,counter in zip(single_winner_cardinal,counter_swc):\n",
    "        winners = method(votes)\n",
    "        if len(winners)==1:\n",
    "            counter[test_choices[winners[0]]]+=1\n",
    "        else:\n",
    "            counter['{}-Way Tie'.format(len(winners))]+=1\n",
    "\n",
    "    for method,counter in zip(multi_winner_cardinal,counter_mwc):\n",
    "        winners = method(votes,3)\n",
    "        if len(winners)==3:\n",
    "            counter[''.join(sorted([test_choices[x] for x in winners]))]+=1\n",
    "        else:\n",
    "            counter['{}-Way Tie'.format(len(winners))]+=1\n",
    "            \n",
    "# Let's make a table for the single-winner methods\n",
    "\n",
    "# First, we need the headers\n",
    "header_single = set()\n",
    "header_ties = set()\n",
    "for counter in counter_swc:\n",
    "    for k in counter.keys():\n",
    "        if '-Way Tie' in k:\n",
    "            header_ties.add(k)\n",
    "        else:\n",
    "            header_single.add(k)\n",
    "\n",
    "# Now turn the header sets into a header list\n",
    "header = sorted(header_single) + sorted(header_ties)\n",
    "\n",
    "# Then make the output\n",
    "output = '#### Single-Winner Voting Methods\\n'\n",
    "output += '|Method|'+'|'.join(header)+'|\\n'\n",
    "output += '|---|'+'|'.join(len(header)*['---'])+'|\\n'\n",
    "for method,counter in zip(single_winner_cardinal,counter_swc):\n",
    "    output += '|'+method.__name__+'|'+'|'.join(['{:.1f}%'.format(counter[x]*100/n_trials) for x in header])+'|\\n'\n",
    "\n",
    "# Do it again for the multi winners.  First, we need the headers\n",
    "header_single = set()\n",
    "header_ties = set()\n",
    "for counter in counter_mwc:\n",
    "    for k in counter.keys():\n",
    "        if '-Way Tie' in k:\n",
    "            header_ties.add(k)\n",
    "        else:\n",
    "            header_single.add(k)\n",
    "\n",
    "# Now turn the header sets into a header list\n",
    "header = sorted(header_single) + sorted(header_ties)\n",
    "\n",
    "# Then make the output\n",
    "output += '#### Multi-Winner Voting Methods\\n'\n",
    "output += '|Method|'+'|'.join(header)+'|\\n'\n",
    "output += '|---|'+'|'.join(len(header)*['---'])+'|\\n'\n",
    "for method,counter in zip(multi_winner_cardinal,counter_mwc):\n",
    "    output += '|'+method.__name__+'|'+'|'.join(['{:.1f}%'.format(counter[x]*100/n_trials) for x in header])+'|\\n'\n",
    "\n",
    "from IPython.display import display, Markdown\n",
    "\n",
    "display(Markdown(output))"
   ]
  },
  {
   "cell_type": "code",
   "execution_count": null,
   "metadata": {},
   "outputs": [],
   "source": []
  }
 ],
 "metadata": {
  "kernelspec": {
   "display_name": "Python 3",
   "language": "python",
   "name": "python3"
  },
  "language_info": {
   "codemirror_mode": {
    "name": "ipython",
    "version": 3
   },
   "file_extension": ".py",
   "mimetype": "text/x-python",
   "name": "python",
   "nbconvert_exporter": "python",
   "pygments_lexer": "ipython3",
   "version": "3.8.5"
  }
 },
 "nbformat": 4,
 "nbformat_minor": 4
}
