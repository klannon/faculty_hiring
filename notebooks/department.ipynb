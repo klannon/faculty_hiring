{
 "cells": [
  {
   "cell_type": "markdown",
   "metadata": {},
   "source": [
    "## Initializations\n",
    "Should only need to do these once."
   ]
  },
  {
   "cell_type": "code",
   "execution_count": 1,
   "metadata": {},
   "outputs": [],
   "source": [
    "%load_ext autoreload\n",
    "%autoreload 2\n",
    "\n",
    "import numpy as np"
   ]
  },
  {
   "cell_type": "markdown",
   "metadata": {},
   "source": [
    "## Create a faculty candidate population\n",
    "Here is a table that I've collected to motivate the distribution of areas that I'm using.\n",
    "\n",
    "| Abbrev. | Field | # of PhDs (%) | # Faculty at ND (%) |\n",
    "|------ | -------- | ----------- | --------------------- | \n",
    "| ast |Astrophysics|   166 (16%) | 8 (19%) |\n",
    "| cmp | Condensed Matter Physics | 388 (38%) | 7 (17%) |\n",
    "| hep | High-Energy Physics | 253 (25%) | 12 (28%) |\n",
    "| net | Network Science (and/or Biophysics if you like) | 105 (10%) | 2 (5%) |\n",
    "| nuc | Nuclear | 109 (11%) | 13 (31%) |\n",
    "| -   | Total   | 1021 | 42 |\n",
    "\n",
    "The \"# of PhDs\" column comes from an [AIP survey](https://www.aip.org/statistics/data-graphics/number-physics-phds-granted-subfield-physics-departments-classes-2010-2011) using data on graduates from 2010 and 2011.  I've only counted areas that we have in our department, and I've neglected AMO.  I'll use these numbers to sample candidates from.  The \"# of Faculty at ND\" column comes from counting up people in our department, including the 2020 retirements and also the recent HEP hire.  I'll use these numbers to set the fields in which we search (i.e. retirements proportional to group size).\n",
    "\n",
    "For Theorist vs Experimentalist, I used the numbers from our department (which might not be typical), which gives a 2-to-1 ratio of experimentalists over theorists.\n",
    "\n",
    "For the ratio of men to women, I'm just using the roughly [AIP statistics](https://www.aip.org/statistics/data-graphics/percent-phds-earned-women-selected-fields-classes-1981-through-2016) taken from an eyeball average of the most recent data points.\n",
    "\n",
    "For the fraction of candidates who are Hispanic-American or African-American, I used the AIP statistics [here](https://www.aip.org/statistics/data-graphics/race-and-ethnicity-physics-phds-classes-2014-through-2016)."
   ]
  },
  {
   "cell_type": "code",
   "execution_count": 20,
   "metadata": {},
   "outputs": [
    {
     "name": "stdout",
     "output_type": "stream",
     "text": [
      "This department has 42 faculty and 3 unfilled lines.\n",
      "Current Faculty:\n",
      "----------------\n",
      "age  experience  URM  field   gender  quality\n",
      "---  ----------  ---  ------  ------  -------\n",
      " 68          34  N    AST-EX  M          3.02\n",
      " 67          34  N    NUC-TH  M          3.26\n",
      " 64          31  N    HEP-EX  F          3.44\n",
      " 64          31  N    HEP-TH  M          3.19\n",
      " 62          29  N    BIO-EX  F          3.47\n",
      " 60          28  N    HEP-EX  M          3.28\n",
      " 59          27  N    NUC-EX  F          3.42\n",
      " 58          26  N    HEP-EX  M          3.53\n",
      " 56          24  N    NUC-EX  M          3.26\n",
      " 54          23  N    NUC-EX  M          3.14\n",
      " 55          22  N    CMP-EX  F          3.68\n",
      " 53          21  N    NUC-EX  M          3.42\n",
      " 53          21  N    BIO-TH  M          3.07\n",
      " 50          20  N    AST-EX  M          3.50\n",
      " 53          19  N    AST-EX  M          3.42\n",
      " 50          19  N    HEP-EX  M          4.00\n",
      " 49          18  N    AST-TH  M          3.11\n",
      " 52          18  N    NUC-EX  M          3.48\n",
      " 49          16  N    CMP-EX  F          3.69\n",
      " 48          15  N    AST-EX  M          3.67\n",
      " 48          15  N    HEP-TH  M          3.68\n",
      " 45          14  N    HEP-TH  M          3.74\n",
      " 45          13  N    HEP-EX  M          3.11\n",
      " 46          13  N    CMP-EX  M          3.37\n",
      " 46          13  N    NUC-EX  M          3.43\n",
      " 44          12  N    HEP-EX  M          3.30\n",
      " 43          12  N    HEP-TH  M          3.17\n",
      " 45          12  N    NUC-EX  M          3.70\n",
      " 41          10  N    NUC-TH  F          3.10\n",
      " 41           9  N    AST-EX  F          3.75\n",
      " 40           7  N    CMP-TH  M          3.25\n",
      " 39           7  N    CMP-EX  F          3.46\n",
      " 38           6  N    BIO-TH  M          3.15\n",
      " 35           4  N    NUC-TH  F          3.20\n",
      " 36           3  N    AST-EX  M          3.43\n",
      " 38           3  N    HEP-EX  M          3.46\n",
      " 34           2  N    AST-TH  F          3.75\n",
      " 35           2  N    NUC-EX  M          3.03\n",
      " 33           1  N    NUC-EX  M          3.24\n",
      " 34           1  N    NUC-EX  M          3.18\n",
      " 35           1  N    HEP-TH  M          3.33\n",
      " 33           1  N    CMP-TH  M          3.55\n",
      "Summary Statistics:\n",
      "  age       : Ave 47.57, Min 33.00, Max 68.00\n",
      "  experience: Ave 15.17, Min 1.00, Max 34.00\n",
      "  URM       : N-100.0%\n",
      "  field     : AST-EX-14.3%, AST-TH- 4.8%, BIO-EX- 2.4%, BIO-TH- 4.8%, CMP-EX- 9.5%, CMP-TH- 4.8%, HEP-EX-16.7%, HEP-TH-11.9%, NUC-EX-23.8%, NUC-TH- 7.1%\n",
      "  gender    : F-23.8%, M-76.2%\n",
      "  quality   : Ave 3.39, Min 3.02, Max 4.00\n",
      "\n",
      "Unfilled Lines:\n",
      "CMP-EX:   3\n"
     ]
    }
   ],
   "source": [
    "import faculty_hiring.models as fm\n",
    "from collections import Counter\n",
    "import logging\n",
    "\n",
    "#fm.setup_logging(logging.DEBUG)\n",
    "\n",
    "fields = {'AST-EX':0.107, 'AST-TH':0.053, \n",
    "          'CMP-EX':0.255, 'CMP-TH':0.125,\n",
    "          'HEP-EX':0.167, 'HEP-TH':0.083,\n",
    "          'BIO-EX':0.067, 'BIO-TH':0.033,  #Includes Network Science\n",
    "          'NUC-EX':0.074, 'NUC-TH':0.036}\n",
    "\n",
    "# Filled lines - The faculty we have in the department\n",
    "filled_lines = Counter({'AST-EX':6, 'AST-TH':2, \n",
    "                        'CMP-EX':4, 'CMP-TH':2,\n",
    "                        'HEP-EX':7, 'HEP-TH':5,\n",
    "                        'BIO-EX':1, 'BIO-TH':2,  #Includes Network Science\n",
    "                        'NUC-EX':10, 'NUC-TH':3})\n",
    "\n",
    "# Open lines - lines we haven't managed to fill yet\n",
    "open_lines = Counter({'AST-EX':0, 'AST-TH':0, \n",
    "                      'CMP-EX':3, 'CMP-TH':0,\n",
    "                      'HEP-EX':0, 'HEP-TH':0,\n",
    "                      'BIO-EX':0, 'BIO-TH':0,  #Includes Network Science\n",
    "                      'NUC-EX':0, 'NUC-TH':0})\n",
    "\n",
    "total_lines = filled_lines+open_lines\n",
    "\n",
    "pop = fm.CandidatePopulation()\n",
    "pop.add_attribute('field',fields)\n",
    "pop.add_attribute('gender',{'M':0.8, 'F':0.2})\n",
    "pop.add_attribute('URM',{'Y':0.02, 'N':0.98})\n",
    "\n",
    "dep = fm.Department(pop, total_lines, open_lines)\n",
    "dep.summary()"
   ]
  },
  {
   "cell_type": "code",
   "execution_count": null,
   "metadata": {},
   "outputs": [],
   "source": []
  }
 ],
 "metadata": {
  "kernelspec": {
   "display_name": "Python 3",
   "language": "python",
   "name": "python3"
  },
  "language_info": {
   "codemirror_mode": {
    "name": "ipython",
    "version": 3
   },
   "file_extension": ".py",
   "mimetype": "text/x-python",
   "name": "python",
   "nbconvert_exporter": "python",
   "pygments_lexer": "ipython3",
   "version": "3.8.5"
  }
 },
 "nbformat": 4,
 "nbformat_minor": 4
}
