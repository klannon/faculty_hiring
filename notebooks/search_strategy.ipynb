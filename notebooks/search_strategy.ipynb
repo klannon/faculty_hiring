{
 "cells": [
  {
   "cell_type": "markdown",
   "metadata": {},
   "source": [
    "## Initializations\n",
    "Should only need to do these once."
   ]
  },
  {
   "cell_type": "code",
   "execution_count": 1,
   "metadata": {},
   "outputs": [],
   "source": [
    "%load_ext autoreload\n",
    "%autoreload 2\n",
    "\n",
    "import numpy as np"
   ]
  },
  {
   "cell_type": "markdown",
   "metadata": {},
   "source": [
    "## Create a faculty candidate population\n",
    "Here is a table that I've collected to motivate the distribution of areas that I'm using.\n",
    "\n",
    "| Abbrev. | Field | # of PhDs (%) | # Faculty at ND (%) |\n",
    "|------ | -------- | ----------- | --------------------- | \n",
    "| ast |Astrophysics|   166 (16%) | 8 (19%) |\n",
    "| cmp | Condensed Matter Physics | 388 (38%) | 7 (17%) |\n",
    "| hep | High-Energy Physics | 253 (25%) | 12 (28%) |\n",
    "| net | Network Science (and/or Biophysics if you like) | 105 (10%) | 2 (5%) |\n",
    "| nuc | Nuclear | 109 (11%) | 13 (31%) |\n",
    "| -   | Total   | 1021 | 42 |\n",
    "\n",
    "The \"# of PhDs\" column comes from an [AIP survey](https://www.aip.org/statistics/data-graphics/number-physics-phds-granted-subfield-physics-departments-classes-2010-2011) using data on graduates from 2010 and 2011.  I've only counted areas that we have in our department, and I've neglected AMO.  I'll use these numbers to sample candidates from.  The \"# of Faculty at ND\" column comes from counting up people in our department, including the 2020 retirements and also the recent HEP hire.  I'll use these numbers to set the fields in which we search (i.e. retirements proportional to group size).\n",
    "\n",
    "For the ratio of men to women, I'm just using the roughly [AIP statistics](https://www.aip.org/statistics/data-graphics/percent-phds-earned-women-selected-fields-classes-1981-through-2016) taken from an eyeball average of the most recent data points."
   ]
  },
  {
   "cell_type": "code",
   "execution_count": 2,
   "metadata": {},
   "outputs": [],
   "source": [
    "from faculty_hiring.models import CandidatePopulation\n",
    "\n",
    "fields = {'ast':0.16, 'cmp':0.38, 'hep':0.25, 'net':0.10, 'nuc':0.11, }\n",
    "\n",
    "pop = CandidatePopulation()\n",
    "pop.add_attribute('field',fields)\n",
    "pop.add_attribute('gender',{'M':0.8, 'F':0.2})"
   ]
  },
  {
   "cell_type": "markdown",
   "metadata": {},
   "source": [
    "## Generate a few random faculty candidates"
   ]
  },
  {
   "cell_type": "code",
   "execution_count": 3,
   "metadata": {},
   "outputs": [
    {
     "name": "stdout",
     "output_type": "stream",
     "text": [
      "Candidate A:\n",
      "Candidate(field='cmp', gender='M', quality=2.2291828133809344)\n",
      "Candidate B:\n",
      "Candidate(field='hep', gender='M', quality=2.771147205557464)\n",
      "Candidate C:\n",
      "Candidate(field='ast', gender='M', quality=2.309957350576302)\n"
     ]
    }
   ],
   "source": [
    "print(\"Candidate A:\")\n",
    "print(pop.generate_candidate())\n",
    "\n",
    "print(\"Candidate B:\")\n",
    "print(pop.generate_candidate())\n",
    "\n",
    "print(\"Candidate C:\")\n",
    "print(pop.generate_candidate())"
   ]
  },
  {
   "cell_type": "markdown",
   "metadata": {},
   "source": [
    "## Generate a whole population of candidates\n",
    "Note: This method applies Poisson fluctuations to the size of the candidate pool when generating random candidates."
   ]
  },
  {
   "cell_type": "code",
   "execution_count": 4,
   "metadata": {},
   "outputs": [
    {
     "name": "stdout",
     "output_type": "stream",
     "text": [
      "A list of candidates:\n",
      "Size of the candidate pool: 110\n",
      "Number of AST candidates: 15; Best candidate: F 2.49\n",
      "Number of CMP candidates: 32; Best candidate: M 3.37\n",
      "Number of HEP candidates: 32; Best candidate: M 3.26\n",
      "Number of NET candidates: 16; Best candidate: M 3.84\n",
      "Number of NUC candidates: 15; Best candidate: M 3.03\n",
      "Top overall candidate: Gender: M, Field: NET\n"
     ]
    }
   ],
   "source": [
    "print(\"A list of candidates:\")\n",
    "p = pop.generate_population(100)\n",
    "print(\"Size of the candidate pool: {}\".format(p.quality.size))\n",
    "for f in ['ast','cmp','hep','net','nuc',]:\n",
    "    mask = (p.field == f)\n",
    "    gender_mask = p.gender[mask]\n",
    "    quality_mask = p.quality[mask]\n",
    "    best_ind = np.argmax(quality_mask)\n",
    "    print(\"Number of {} candidates: {}; Best candidate: {} {:.2f}\".format(f.upper(),np.count_nonzero(mask),gender_mask[best_ind],quality_mask[best_ind]))\n",
    "\n",
    "best_ind = np.argmax(p.quality)\n",
    "print(\"Top overall candidate: Gender: {}, Field: {}\".format(p.gender[best_ind], p.field[best_ind].upper()))"
   ]
  },
  {
   "cell_type": "markdown",
   "metadata": {},
   "source": [
    "## Possible Search Strategies\n",
    "There are a few possible search strategies that we can consider:\n",
    "1. Targeted search in one area, pick the best one\n",
    "1. Open search in all areas, pick the best one\n",
    "1. Targeted search in one area, pick the best woman if she is not more than 0.25 sigma below the best man\n",
    "1. Open search in all areas, pick the best woman if she is not more than 0.25 sigma below the best man\n",
    "\n",
    "So, an *unbiased* approach would need to pick a woman as often as the fraction in the input population.  That would not promote equity (50% women).  An effective strategy would pick a woman 50% of the time.  Relevant metrics to test to evaluate the strategy include fraction of women hired and average quality of candidates."
   ]
  },
  {
   "cell_type": "code",
   "execution_count": 9,
   "metadata": {},
   "outputs": [
    {
     "name": "stdout",
     "output_type": "stream",
     "text": [
      "Hire the \"best:\"\n",
      "Targeted search: Fraction of women hired: 22.40%, Average quality: 3.39, Successful Searchers: 67.40%\n",
      "Open search: Fraction of women hired: 21.71%, Average quality: 3.65, Successful Searchers: 99.50%\n",
      "Preferring Women:\n",
      "Targeted search: Fraction of women hired: 25.96%, Average quality: 3.38, Successful Searchers: 67.40%\n",
      "Open search: Fraction of women hired: 38.39%, Average quality: 3.63, Successful Searchers: 99.50%\n"
     ]
    }
   ],
   "source": [
    "from faculty_hiring import strategy\n",
    "from collections import Counter\n",
    "\n",
    "search_fields = {'ast':0.19, 'cmp':0.17, 'hep':0.28, 'net':0.05, 'nuc':0.31, }\n",
    "\n",
    "# Experiment parameters\n",
    "n_trials = 1000\n",
    "n_cands = 300\n",
    "tolerance = 0.25\n",
    "\n",
    "#Initialize some counters\n",
    "counter_open = Counter()\n",
    "counter_targeted = Counter()\n",
    "counter_open_pref = Counter()\n",
    "counter_targeted_pref = Counter()\n",
    "quality_open = 0\n",
    "quality_targeted = 0\n",
    "quality_open_pref = 0\n",
    "quality_targeted_pref = 0\n",
    "\n",
    "for i in range(n_trials):\n",
    "    \n",
    "    p = pop.generate_population(100)\n",
    "\n",
    "    # Pick the field in which we'll be searching\n",
    "    field = np.random.choice(list(search_fields.keys()),p=list(search_fields.values()))\n",
    "    \n",
    "    # Strategy 1: Pick the best in a randomly chosen target field\n",
    "    best_targeted = strategy.pick_best(pop.record_type, p, {'field':field}, threshold=3.0)\n",
    "    if best_targeted != None:\n",
    "        counter_targeted[best_targeted.gender]+=1\n",
    "        quality_targeted += best_targeted.quality\n",
    "    \n",
    "    # Strategy 2: Just pick the best in all fields\n",
    "    best_open = strategy.pick_best(pop.record_type, p, threshold=3.0)\n",
    "    if best_open != None:\n",
    "        counter_open[best_open.gender]+=1\n",
    "        quality_open += best_open.quality\n",
    "    \n",
    "    # Strategy 3: Prefer women in the same randomly chosen target field\n",
    "    pref_targeted = strategy.pick_pref(pop.record_type, p, {'gender':'F'}, tolerance, filter_criteria={'field':field}, threshold=3.0)\n",
    "    if pref_targeted != None:\n",
    "        counter_targeted_pref[pref_targeted.gender]+=1\n",
    "        quality_targeted_pref += pref_targeted.quality\n",
    "    \n",
    "    # Strategy 4: Just pick the best in all fields\n",
    "    pref_open = strategy.pick_pref(pop.record_type, p, {'gender':'F'}, tolerance, threshold=3.0)\n",
    "    if pref_open != None:\n",
    "        counter_open_pref[pref_open.gender]+=1\n",
    "        quality_open_pref += pref_open.quality\n",
    "\n",
    "# Trials done, report results:\n",
    "print('Hire the \"best:\"')\n",
    "successes = sum(counter_targeted.values())\n",
    "print('Targeted search: Fraction of women hired: {:.2f}%, '.format(100*counter_targeted['F']/successes)+\n",
    "      'Average quality: {:.2f}, '.format(quality_targeted/successes)+\n",
    "      'Successful Searchers: {:.2f}%'.format(100*successes/n_trials))\n",
    "successes = sum(counter_open.values())\n",
    "print('Open search: Fraction of women hired: {:.2f}%, '.format(100*counter_open['F']/successes)+\n",
    "      'Average quality: {:.2f}, '.format(quality_open/successes)+\n",
    "      'Successful Searchers: {:.2f}%'.format(100*successes/n_trials))\n",
    "print('Preferring Women:')\n",
    "successes = sum(counter_targeted_pref.values())\n",
    "print('Targeted search: Fraction of women hired: {:.2f}%, '.format(100*counter_targeted_pref['F']/successes)+\n",
    "      'Average quality: {:.2f}, '.format(quality_targeted_pref/successes)+\n",
    "      'Successful Searchers: {:.2f}%'.format(100*successes/n_trials))\n",
    "successes = sum(counter_open_pref.values())\n",
    "print('Open search: Fraction of women hired: {:.2f}%, '.format(100*counter_open_pref['F']/successes)+\n",
    "      'Average quality: {:.2f}, '.format(quality_open_pref/successes)+\n",
    "      'Successful Searchers: {:.2f}%'.format(100*successes/n_trials))"
   ]
  },
  {
   "cell_type": "markdown",
   "metadata": {},
   "source": [
    "## Repeat with Slightly Different Assumptions\n",
    "Since the results depend on how much of a difference we allow between the best female and best male candidate to still consider them equivalent, here's another run but this time with 0.5 sigma instead of 0.25 sigma as the tolerance."
   ]
  },
  {
   "cell_type": "code",
   "execution_count": 10,
   "metadata": {},
   "outputs": [
    {
     "name": "stdout",
     "output_type": "stream",
     "text": [
      "Hire the \"best:\"\n",
      "Targeted search: Fraction of women hired: 19.18%, Average quality: 3.39, Successful Searchers: 65.70%\n",
      "Open search: Fraction of women hired: 18.17%, Average quality: 3.66, Successful Searchers: 99.60%\n",
      "Preferring Women:\n",
      "Targeted search: Fraction of women hired: 28.77%, Average quality: 3.38, Successful Searchers: 65.70%\n",
      "Open search: Fraction of women hired: 54.62%, Average quality: 3.56, Successful Searchers: 99.60%\n"
     ]
    }
   ],
   "source": [
    "from faculty_hiring import strategy\n",
    "from collections import Counter\n",
    "\n",
    "search_fields = {'ast':0.19, 'cmp':0.17, 'hep':0.28, 'net':0.05, 'nuc':0.31, }\n",
    "\n",
    "# Experiment parameters\n",
    "n_trials = 1000\n",
    "n_cands = 300\n",
    "tolerance = 0.5\n",
    "\n",
    "#Initialize some counters\n",
    "counter_open = Counter()\n",
    "counter_targeted = Counter()\n",
    "counter_open_pref = Counter()\n",
    "counter_targeted_pref = Counter()\n",
    "quality_open = 0\n",
    "quality_targeted = 0\n",
    "quality_open_pref = 0\n",
    "quality_targeted_pref = 0\n",
    "\n",
    "for i in range(n_trials):\n",
    "    \n",
    "    p = pop.generate_population(100)\n",
    "\n",
    "    # Pick the field in which we'll be searching\n",
    "    field = np.random.choice(list(search_fields.keys()),p=list(search_fields.values()))\n",
    "    \n",
    "    # Strategy 1: Pick the best in a randomly chosen target field\n",
    "    best_targeted = strategy.pick_best(pop.record_type, p, {'field':field}, threshold=3.0)\n",
    "    if best_targeted != None:\n",
    "        counter_targeted[best_targeted.gender]+=1\n",
    "        quality_targeted += best_targeted.quality\n",
    "    \n",
    "    # Strategy 2: Just pick the best in all fields\n",
    "    best_open = strategy.pick_best(pop.record_type, p, threshold=3.0)\n",
    "    if best_open != None:\n",
    "        counter_open[best_open.gender]+=1\n",
    "        quality_open += best_open.quality\n",
    "    \n",
    "    # Strategy 3: Prefer women in the same randomly chosen target field\n",
    "    pref_targeted = strategy.pick_pref(pop.record_type, p, {'gender':'F'}, tolerance, filter_criteria={'field':field}, threshold=3.0)\n",
    "    if pref_targeted != None:\n",
    "        counter_targeted_pref[pref_targeted.gender]+=1\n",
    "        quality_targeted_pref += pref_targeted.quality\n",
    "    \n",
    "    # Strategy 4: Just pick the best in all fields\n",
    "    pref_open = strategy.pick_pref(pop.record_type, p, {'gender':'F'}, tolerance, threshold=3.0)\n",
    "    if pref_open != None:\n",
    "        counter_open_pref[pref_open.gender]+=1\n",
    "        quality_open_pref += pref_open.quality\n",
    "\n",
    "# Trials done, report results:\n",
    "print('Hire the \"best:\"')\n",
    "successes = sum(counter_targeted.values())\n",
    "print('Targeted search: Fraction of women hired: {:.2f}%, '.format(100*counter_targeted['F']/successes)+\n",
    "      'Average quality: {:.2f}, '.format(quality_targeted/successes)+\n",
    "      'Successful Searchers: {:.2f}%'.format(100*successes/n_trials))\n",
    "successes = sum(counter_open.values())\n",
    "print('Open search: Fraction of women hired: {:.2f}%, '.format(100*counter_open['F']/successes)+\n",
    "      'Average quality: {:.2f}, '.format(quality_open/successes)+\n",
    "      'Successful Searchers: {:.2f}%'.format(100*successes/n_trials))\n",
    "print('Preferring Women:')\n",
    "successes = sum(counter_targeted_pref.values())\n",
    "print('Targeted search: Fraction of women hired: {:.2f}%, '.format(100*counter_targeted_pref['F']/successes)+\n",
    "      'Average quality: {:.2f}, '.format(quality_targeted_pref/successes)+\n",
    "      'Successful Searchers: {:.2f}%'.format(100*successes/n_trials))\n",
    "successes = sum(counter_open_pref.values())\n",
    "print('Open search: Fraction of women hired: {:.2f}%, '.format(100*counter_open_pref['F']/successes)+\n",
    "      'Average quality: {:.2f}, '.format(quality_open_pref/successes)+\n",
    "      'Successful Searchers: {:.2f}%'.format(100*successes/n_trials))"
   ]
  },
  {
   "cell_type": "markdown",
   "metadata": {},
   "source": [
    "## Conclusions\n",
    "\n",
    "There are a number of things one could take away from here:\n",
    "1. If you don't do anything special in trying to hire women, then the fraction of the women you hire will be about the same as what you see in your input population.\n",
    "1. An open search does nothing, by itself to increase diversity.\n",
    "1. Hiring women preferentially reduces the overall quality of the candidates you hire, although the effect is small if you institute a threshold for successful hiring.\n",
    "1. Performing an open search increases the quality of candidates you hire.\n",
    "1. The above two affects are just manifestations of the same general principle: searching for the best in a subset, on average, yields lower quality than searching for the best in the full set.\n",
    "1. **Performing an open search, but preferring women candidates yields *better* quality than performing a targeted search without preferring women.**  Basically, we're just canceling the two affects noted separately above.\n",
    "1. Targeted searches fail to identify a suitably high quality candidate more often than open searches.\n",
    "\n",
    "There is certainly weak points to this study.\n",
    "- My data for setting the distribution of candidates is a bit ad-hoc.  I've picked the size of the applicant pool out of thin air.\n",
    "- I have assumed that every search yields a candidate of suitable quality.  I haven't populated the candidate pool with any candidates below threshold.\n",
    "- I have assumed that when we rank candidates, we can measure their quality with no error.\n",
    "- I have assumed that we measure the quality of candidates without any bias either from gender or from the field of study.\n",
    "- I have based hiring on the current size of the group without regard for age profile or strategic goals.  For example, I havent accounted for Forro or the push to hire in material science/condensed matter.\n",
    "\n",
    "To tackle the last three, I would probably need a model of the department composition and retirement progression as well as a model of voting, including potentially individual biases of faculty per area.  If I did this, it would also let me explore different voting methodologies, so I really want to.  However, it will take some doing, so I'm going to pause here with this result."
   ]
  },
  {
   "cell_type": "code",
   "execution_count": null,
   "metadata": {},
   "outputs": [],
   "source": []
  }
 ],
 "metadata": {
  "kernelspec": {
   "display_name": "Python 3",
   "language": "python",
   "name": "python3"
  },
  "language_info": {
   "codemirror_mode": {
    "name": "ipython",
    "version": 3
   },
   "file_extension": ".py",
   "mimetype": "text/x-python",
   "name": "python",
   "nbconvert_exporter": "python",
   "pygments_lexer": "ipython3",
   "version": "3.8.5"
  }
 },
 "nbformat": 4,
 "nbformat_minor": 4
}
